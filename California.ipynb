{
 "cells": [
  {
   "cell_type": "markdown",
   "id": "bdf746aa",
   "metadata": {},
   "source": [
    "# Finding the data only for california"
   ]
  },
  {
   "cell_type": "code",
   "execution_count": 1,
   "id": "1dfe039a",
   "metadata": {},
   "outputs": [],
   "source": [
    "import pandas as pd\n",
    "import numpy as np\n",
    "from IPython.core.interactiveshell import InteractiveShell\n",
    "import random\n",
    "InteractiveShell.ast_node_interactivity = \"all\"\n",
    "import os\n",
    "from datetime import datetime\n",
    "import plotly.express as px\n",
    "import glob\n",
    "from tqdm import tqdm\n",
    "import matplotlib.pyplot as plt\n",
    "%matplotlib inline\n",
    "import seaborn as sns"
   ]
  },
  {
   "cell_type": "markdown",
   "id": "60ae8bb0",
   "metadata": {},
   "source": [
    "# California Longitude and Latitude range\n",
    "* https://netstate.com/states/geography/ca_geography.htm \n",
    "* Longitude = 114° 8' W to 124° 24' W\n",
    "* Latitude = 32° 30' N to 42° N"
   ]
  },
  {
   "cell_type": "code",
   "execution_count": 5,
   "id": "2434c8ec",
   "metadata": {},
   "outputs": [],
   "source": [
    "CA_LONGITUDE_RANGE = (-124, -114)\n",
    "CA_LATITUDE_RANGE = (32, 42)"
   ]
  },
  {
   "cell_type": "code",
   "execution_count": 6,
   "id": "8a9ba167",
   "metadata": {},
   "outputs": [],
   "source": [
    "daily_fires_df = pd.read_csv('usa_canada_daily_fire_2000_2021.csv')"
   ]
  },
  {
   "cell_type": "code",
   "execution_count": 7,
   "id": "3f081b65",
   "metadata": {},
   "outputs": [],
   "source": [
    "ca_fire = daily_fires_df[ \n",
    "    (daily_fires_df.latitude > CA_LATITUDE_RANGE[0]) & (daily_fires_df.latitude < CA_LATITUDE_RANGE[1])]\n",
    "\n",
    "ca_fire = ca_fire[\n",
    "    (ca_fire.longitude > CA_LONGITUDE_RANGE[0]) & (ca_fire.longitude < CA_LONGITUDE_RANGE[1])]"
   ]
  },
  {
   "cell_type": "code",
   "execution_count": 8,
   "id": "e8751614",
   "metadata": {},
   "outputs": [
    {
     "data": {
      "text/plain": [
       "(221183, 9)"
      ]
     },
     "execution_count": 8,
     "metadata": {},
     "output_type": "execute_result"
    }
   ],
   "source": [
    "ca_fire.shape"
   ]
  },
  {
   "cell_type": "code",
   "execution_count": 9,
   "id": "3a700bec",
   "metadata": {},
   "outputs": [
    {
     "data": {
      "text/html": [
       "<div>\n",
       "<style scoped>\n",
       "    .dataframe tbody tr th:only-of-type {\n",
       "        vertical-align: middle;\n",
       "    }\n",
       "\n",
       "    .dataframe tbody tr th {\n",
       "        vertical-align: top;\n",
       "    }\n",
       "\n",
       "    .dataframe thead th {\n",
       "        text-align: right;\n",
       "    }\n",
       "</style>\n",
       "<table border=\"1\" class=\"dataframe\">\n",
       "  <thead>\n",
       "    <tr style=\"text-align: right;\">\n",
       "      <th></th>\n",
       "      <th>latitude</th>\n",
       "      <th>longitude</th>\n",
       "      <th>acq_date</th>\n",
       "      <th>satellite</th>\n",
       "      <th>instrument</th>\n",
       "      <th>frp</th>\n",
       "      <th>type</th>\n",
       "      <th>bright_t31</th>\n",
       "      <th>confidence</th>\n",
       "    </tr>\n",
       "  </thead>\n",
       "  <tbody>\n",
       "    <tr>\n",
       "      <th>1264045</th>\n",
       "      <td>40.6534</td>\n",
       "      <td>-120.1253</td>\n",
       "      <td>2012-08-14</td>\n",
       "      <td>Aqua</td>\n",
       "      <td>MODIS</td>\n",
       "      <td>19.5</td>\n",
       "      <td>0</td>\n",
       "      <td>313.5</td>\n",
       "      <td>78</td>\n",
       "    </tr>\n",
       "    <tr>\n",
       "      <th>761991</th>\n",
       "      <td>34.7778</td>\n",
       "      <td>-119.6733</td>\n",
       "      <td>2007-08-19</td>\n",
       "      <td>Terra</td>\n",
       "      <td>MODIS</td>\n",
       "      <td>117.0</td>\n",
       "      <td>0</td>\n",
       "      <td>313.8</td>\n",
       "      <td>88</td>\n",
       "    </tr>\n",
       "    <tr>\n",
       "      <th>563386</th>\n",
       "      <td>33.2050</td>\n",
       "      <td>-116.9459</td>\n",
       "      <td>2003-10-27</td>\n",
       "      <td>Aqua</td>\n",
       "      <td>MODIS</td>\n",
       "      <td>116.0</td>\n",
       "      <td>0</td>\n",
       "      <td>295.4</td>\n",
       "      <td>100</td>\n",
       "    </tr>\n",
       "    <tr>\n",
       "      <th>1286144</th>\n",
       "      <td>41.0023</td>\n",
       "      <td>-122.2194</td>\n",
       "      <td>2018-08-24</td>\n",
       "      <td>Aqua</td>\n",
       "      <td>MODIS</td>\n",
       "      <td>17.0</td>\n",
       "      <td>0</td>\n",
       "      <td>300.7</td>\n",
       "      <td>54</td>\n",
       "    </tr>\n",
       "    <tr>\n",
       "      <th>936211</th>\n",
       "      <td>36.6087</td>\n",
       "      <td>-119.4001</td>\n",
       "      <td>2005-10-04</td>\n",
       "      <td>Terra</td>\n",
       "      <td>MODIS</td>\n",
       "      <td>14.1</td>\n",
       "      <td>0</td>\n",
       "      <td>298.0</td>\n",
       "      <td>76</td>\n",
       "    </tr>\n",
       "  </tbody>\n",
       "</table>\n",
       "</div>"
      ],
      "text/plain": [
       "         latitude  longitude    acq_date satellite instrument    frp  type  \\\n",
       "1264045   40.6534  -120.1253  2012-08-14      Aqua      MODIS   19.5     0   \n",
       "761991    34.7778  -119.6733  2007-08-19     Terra      MODIS  117.0     0   \n",
       "563386    33.2050  -116.9459  2003-10-27      Aqua      MODIS  116.0     0   \n",
       "1286144   41.0023  -122.2194  2018-08-24      Aqua      MODIS   17.0     0   \n",
       "936211    36.6087  -119.4001  2005-10-04     Terra      MODIS   14.1     0   \n",
       "\n",
       "         bright_t31  confidence  \n",
       "1264045       313.5          78  \n",
       "761991        313.8          88  \n",
       "563386        295.4         100  \n",
       "1286144       300.7          54  \n",
       "936211        298.0          76  "
      ]
     },
     "execution_count": 9,
     "metadata": {},
     "output_type": "execute_result"
    }
   ],
   "source": [
    "ca_fire.sample(5)"
   ]
  },
  {
   "cell_type": "code",
   "execution_count": 10,
   "id": "b7e1b72c",
   "metadata": {},
   "outputs": [
    {
     "name": "stdout",
     "output_type": "stream",
     "text": [
      "<class 'pandas.core.frame.DataFrame'>\n",
      "Int64Index: 221183 entries, 468817 to 1349230\n",
      "Data columns (total 9 columns):\n",
      " #   Column      Non-Null Count   Dtype  \n",
      "---  ------      --------------   -----  \n",
      " 0   latitude    221183 non-null  float64\n",
      " 1   longitude   221183 non-null  float64\n",
      " 2   acq_date    221183 non-null  object \n",
      " 3   satellite   221183 non-null  object \n",
      " 4   instrument  221183 non-null  object \n",
      " 5   frp         221183 non-null  float64\n",
      " 6   type        221183 non-null  int64  \n",
      " 7   bright_t31  221183 non-null  float64\n",
      " 8   confidence  221183 non-null  int64  \n",
      "dtypes: float64(4), int64(2), object(3)\n",
      "memory usage: 16.9+ MB\n"
     ]
    }
   ],
   "source": [
    "ca_fire.info()"
   ]
  },
  {
   "cell_type": "code",
   "execution_count": 11,
   "id": "b614ebdd",
   "metadata": {},
   "outputs": [
    {
     "data": {
      "text/html": [
       "<div>\n",
       "<style scoped>\n",
       "    .dataframe tbody tr th:only-of-type {\n",
       "        vertical-align: middle;\n",
       "    }\n",
       "\n",
       "    .dataframe tbody tr th {\n",
       "        vertical-align: top;\n",
       "    }\n",
       "\n",
       "    .dataframe thead th {\n",
       "        text-align: right;\n",
       "    }\n",
       "</style>\n",
       "<table border=\"1\" class=\"dataframe\">\n",
       "  <thead>\n",
       "    <tr style=\"text-align: right;\">\n",
       "      <th></th>\n",
       "      <th>latitude</th>\n",
       "      <th>longitude</th>\n",
       "      <th>frp</th>\n",
       "      <th>type</th>\n",
       "      <th>bright_t31</th>\n",
       "      <th>confidence</th>\n",
       "    </tr>\n",
       "  </thead>\n",
       "  <tbody>\n",
       "    <tr>\n",
       "      <th>count</th>\n",
       "      <td>221183.000000</td>\n",
       "      <td>221183.000000</td>\n",
       "      <td>221183.000000</td>\n",
       "      <td>221183.000000</td>\n",
       "      <td>221183.000000</td>\n",
       "      <td>221183.000000</td>\n",
       "    </tr>\n",
       "    <tr>\n",
       "      <th>mean</th>\n",
       "      <td>38.218017</td>\n",
       "      <td>-120.263418</td>\n",
       "      <td>137.750609</td>\n",
       "      <td>0.010991</td>\n",
       "      <td>299.375297</td>\n",
       "      <td>83.162490</td>\n",
       "    </tr>\n",
       "    <tr>\n",
       "      <th>std</th>\n",
       "      <td>2.536727</td>\n",
       "      <td>2.395738</td>\n",
       "      <td>353.842116</td>\n",
       "      <td>0.150897</td>\n",
       "      <td>12.301854</td>\n",
       "      <td>16.044658</td>\n",
       "    </tr>\n",
       "    <tr>\n",
       "      <th>min</th>\n",
       "      <td>32.464600</td>\n",
       "      <td>-123.999700</td>\n",
       "      <td>0.000000</td>\n",
       "      <td>0.000000</td>\n",
       "      <td>265.300000</td>\n",
       "      <td>50.000000</td>\n",
       "    </tr>\n",
       "    <tr>\n",
       "      <th>25%</th>\n",
       "      <td>36.280050</td>\n",
       "      <td>-122.345450</td>\n",
       "      <td>19.900000</td>\n",
       "      <td>0.000000</td>\n",
       "      <td>291.500000</td>\n",
       "      <td>70.000000</td>\n",
       "    </tr>\n",
       "    <tr>\n",
       "      <th>50%</th>\n",
       "      <td>38.660300</td>\n",
       "      <td>-120.495900</td>\n",
       "      <td>43.100000</td>\n",
       "      <td>0.000000</td>\n",
       "      <td>297.600000</td>\n",
       "      <td>86.000000</td>\n",
       "    </tr>\n",
       "    <tr>\n",
       "      <th>75%</th>\n",
       "      <td>40.319500</td>\n",
       "      <td>-118.776300</td>\n",
       "      <td>110.100000</td>\n",
       "      <td>0.000000</td>\n",
       "      <td>305.600000</td>\n",
       "      <td>100.000000</td>\n",
       "    </tr>\n",
       "    <tr>\n",
       "      <th>max</th>\n",
       "      <td>41.999900</td>\n",
       "      <td>-114.000100</td>\n",
       "      <td>11944.200000</td>\n",
       "      <td>3.000000</td>\n",
       "      <td>400.100000</td>\n",
       "      <td>100.000000</td>\n",
       "    </tr>\n",
       "  </tbody>\n",
       "</table>\n",
       "</div>"
      ],
      "text/plain": [
       "            latitude      longitude            frp           type  \\\n",
       "count  221183.000000  221183.000000  221183.000000  221183.000000   \n",
       "mean       38.218017    -120.263418     137.750609       0.010991   \n",
       "std         2.536727       2.395738     353.842116       0.150897   \n",
       "min        32.464600    -123.999700       0.000000       0.000000   \n",
       "25%        36.280050    -122.345450      19.900000       0.000000   \n",
       "50%        38.660300    -120.495900      43.100000       0.000000   \n",
       "75%        40.319500    -118.776300     110.100000       0.000000   \n",
       "max        41.999900    -114.000100   11944.200000       3.000000   \n",
       "\n",
       "          bright_t31     confidence  \n",
       "count  221183.000000  221183.000000  \n",
       "mean      299.375297      83.162490  \n",
       "std        12.301854      16.044658  \n",
       "min       265.300000      50.000000  \n",
       "25%       291.500000      70.000000  \n",
       "50%       297.600000      86.000000  \n",
       "75%       305.600000     100.000000  \n",
       "max       400.100000     100.000000  "
      ]
     },
     "execution_count": 11,
     "metadata": {},
     "output_type": "execute_result"
    }
   ],
   "source": [
    "ca_fire.describe()"
   ]
  },
  {
   "cell_type": "code",
   "execution_count": 13,
   "id": "b195bd26",
   "metadata": {},
   "outputs": [
    {
     "data": {
      "text/plain": [
       "latitude      float64\n",
       "longitude     float64\n",
       "acq_date       object\n",
       "satellite      object\n",
       "instrument     object\n",
       "frp           float64\n",
       "type            int64\n",
       "bright_t31    float64\n",
       "confidence      int64\n",
       "dtype: object"
      ]
     },
     "execution_count": 13,
     "metadata": {},
     "output_type": "execute_result"
    }
   ],
   "source": [
    "ca_fire.dtypes"
   ]
  },
  {
   "cell_type": "code",
   "execution_count": 14,
   "id": "ce221a96",
   "metadata": {},
   "outputs": [],
   "source": [
    "ca_fire['acq_date'] = pd.to_datetime(ca_fire['acq_date'])"
   ]
  },
  {
   "cell_type": "code",
   "execution_count": 16,
   "id": "44061262",
   "metadata": {},
   "outputs": [
    {
     "data": {
      "text/plain": [
       "latitude             float64\n",
       "longitude            float64\n",
       "acq_date      datetime64[ns]\n",
       "satellite             object\n",
       "instrument            object\n",
       "frp                  float64\n",
       "type                   int64\n",
       "bright_t31           float64\n",
       "confidence             int64\n",
       "dtype: object"
      ]
     },
     "execution_count": 16,
     "metadata": {},
     "output_type": "execute_result"
    }
   ],
   "source": [
    "ca_fire.dtypes"
   ]
  },
  {
   "cell_type": "code",
   "execution_count": 17,
   "id": "7dfde0f7",
   "metadata": {},
   "outputs": [],
   "source": [
    "ca_fire['year'] = ca_fire.acq_date.dt.year\n",
    "ca_fire['month'] = ca_fire.acq_date.dt.month"
   ]
  },
  {
   "cell_type": "code",
   "execution_count": 18,
   "id": "6c207a8e",
   "metadata": {},
   "outputs": [
    {
     "data": {
      "text/plain": [
       "latitude             float64\n",
       "longitude            float64\n",
       "acq_date      datetime64[ns]\n",
       "satellite             object\n",
       "instrument            object\n",
       "frp                  float64\n",
       "type                   int64\n",
       "bright_t31           float64\n",
       "confidence             int64\n",
       "year                   int64\n",
       "month                  int64\n",
       "dtype: object"
      ]
     },
     "execution_count": 18,
     "metadata": {},
     "output_type": "execute_result"
    }
   ],
   "source": [
    "ca_fire.dtypes"
   ]
  },
  {
   "cell_type": "markdown",
   "id": "d5fff17a",
   "metadata": {},
   "source": [
    "# Uploading data into a csv"
   ]
  },
  {
   "cell_type": "code",
   "execution_count": 20,
   "id": "5a1650f1",
   "metadata": {},
   "outputs": [],
   "source": [
    "ca_fire.to_csv('ca_fire_2012_2020.csv', index = False)"
   ]
  },
  {
   "cell_type": "code",
   "execution_count": null,
   "id": "c6adf62d",
   "metadata": {},
   "outputs": [],
   "source": []
  }
 ],
 "metadata": {
  "kernelspec": {
   "display_name": "Python 3 (ipykernel)",
   "language": "python",
   "name": "python3"
  },
  "language_info": {
   "codemirror_mode": {
    "name": "ipython",
    "version": 3
   },
   "file_extension": ".py",
   "mimetype": "text/x-python",
   "name": "python",
   "nbconvert_exporter": "python",
   "pygments_lexer": "ipython3",
   "version": "3.9.12"
  }
 },
 "nbformat": 4,
 "nbformat_minor": 5
}
